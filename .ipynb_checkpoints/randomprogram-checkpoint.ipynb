name = input("What is your name?")
info = input("What is your favorite food?")
print('Your name is', name, "and your favorite food is", info)